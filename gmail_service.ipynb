{
 "cells": [
  {
   "cell_type": "code",
   "execution_count": null,
   "id": "6ee336f7-6ebc-42ae-b24e-4d1eff5c88b1",
   "metadata": {},
   "outputs": [],
   "source": [
    "from __future__ import print_function\n",
    "\n",
    "import os.path\n",
    "\n",
    "from google.auth.transport.requests import Request\n",
    "from google.oauth2.credentials import Credentials\n",
    "from google_auth_oauthlib.flow import InstalledAppFlow\n",
    "from googleapiclient.discovery import build\n",
    "from googleapiclient.errors import HttpError"
   ]
  },
  {
   "cell_type": "code",
   "execution_count": null,
   "id": "c34b6c48-facd-4b28-8cfe-459b50f0323f",
   "metadata": {},
   "outputs": [],
   "source": [
    "# If modifying these scopes, delete the file token.json.\n",
    "SCOPES = ['https://www.googleapis.com/auth/gmail.readonly']"
   ]
  },
  {
   "cell_type": "code",
   "execution_count": null,
   "id": "e3b25e5b-a5bd-4cde-9e4d-5758bab07ff1",
   "metadata": {},
   "outputs": [],
   "source": [
    "def get_creds():\n",
    "    \"\"\"Shows basic usage of the Gmail API.\n",
    "    Lists the user's Gmail labels.\n",
    "    \"\"\"\n",
    "    creds = None\n",
    "    # The file token.json stores the user's access and refresh tokens, and is\n",
    "    # created automatically when the authorization flow completes for the first\n",
    "    # time.\n",
    "    if os.path.exists('token.json'):\n",
    "        creds = Credentials.from_authorized_user_file('token.json', SCOPES)\n",
    "    # If there are no (valid) credentials available, let the user log in.\n",
    "    if not creds or not creds.valid:\n",
    "        if creds and creds.expired and creds.refresh_token:\n",
    "            creds.refresh(Request())\n",
    "        else:\n",
    "            flow = InstalledAppFlow.from_client_secrets_file(\n",
    "                'credentials.json', SCOPES)\n",
    "            creds = flow.run_local_server(port=0)\n",
    "        # Save the credentials for the next run\n",
    "        with open('token.json', 'w') as token:\n",
    "            token.write(creds.to_json())\n",
    "    return creds"
   ]
  },
  {
   "cell_type": "code",
   "execution_count": null,
   "id": "10ae3981-a3d8-4609-b47c-8f9b4698c0cf",
   "metadata": {},
   "outputs": [],
   "source": [
    "creds = get_creds()"
   ]
  },
  {
   "cell_type": "code",
   "execution_count": null,
   "id": "13acc35c-f067-4b19-853f-282c229b9d54",
   "metadata": {},
   "outputs": [],
   "source": [
    "# try:\n",
    "#     # Call the Gmail API\n",
    "#     service = build('gmail', 'v1', credentials=creds)\n",
    "#     results = service.users().messages().list(userId='me').execute()\n",
    "#     labels = results.get('labels', [])\n",
    "\n",
    "#     if not labels:\n",
    "#         print('No labels found.')\n",
    "#         pass\n",
    "#     print('Labels:')\n",
    "#     for label in labels:\n",
    "#         print(label['name'])\n",
    "\n",
    "# except HttpError as error:\n",
    "#     # TODO(developer) - Handle errors from gmail API.\n",
    "#     print(f'An error occurred: {error}')\n",
    "\n",
    "\n",
    "service = build('gmail', 'v1', credentials=creds)\n",
    "results = service.users().messages().list(userId='me').execute()"
   ]
  },
  {
   "cell_type": "code",
   "execution_count": null,
   "id": "85f210a1-2ea9-48eb-b76f-7fb35709bcc4",
   "metadata": {},
   "outputs": [],
   "source": [
    "messages = []\n",
    "for message in results['messages']:\n",
    "    # print(message['id'])\n",
    "    messages.append(service.users().messages().get(userId='me', id=message['id']).execute())"
   ]
  },
  {
   "cell_type": "code",
   "execution_count": null,
   "id": "f2b6c89b-d1b9-4b5f-9c6a-d531a2e09344",
   "metadata": {},
   "outputs": [],
   "source": [
    "messages[0]['payload']['headers']"
   ]
  },
  {
   "cell_type": "code",
   "execution_count": null,
   "id": "d3877803-9160-4475-a644-ca34e7ec46dd",
   "metadata": {},
   "outputs": [],
   "source": []
  }
 ],
 "metadata": {
  "kernelspec": {
   "display_name": "Python 3 (ipykernel)",
   "language": "python",
   "name": "python3"
  },
  "language_info": {
   "codemirror_mode": {
    "name": "ipython",
    "version": 3
   },
   "file_extension": ".py",
   "mimetype": "text/x-python",
   "name": "python",
   "nbconvert_exporter": "python",
   "pygments_lexer": "ipython3",
   "version": "3.10.2"
  }
 },
 "nbformat": 4,
 "nbformat_minor": 5
}
